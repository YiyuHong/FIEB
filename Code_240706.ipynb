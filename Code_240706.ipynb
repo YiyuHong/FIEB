{
 "cells": [
  {
   "cell_type": "code",
   "execution_count": 99,
   "metadata": {},
   "outputs": [
    {
     "name": "stderr",
     "output_type": "stream",
     "text": [
      "\n",
      "[notice] A new release of pip is available: 23.3.2 -> 24.1.1\n",
      "[notice] To update, run: python.exe -m pip install --upgrade pip\n"
     ]
    }
   ],
   "source": [
    "! pip3 install -qU guardrails-ai openai langchain_community langchain_experimental langchain-upstage sentence-transformers langchainhub langchain-chroma langchain matplotlib python-dotenv tavily-python ragas faiss-cpu tokenizers "
   ]
  },
  {
   "cell_type": "code",
   "execution_count": 100,
   "metadata": {},
   "outputs": [
    {
     "name": "stderr",
     "output_type": "stream",
     "text": [
      "\n",
      "[notice] A new release of pip is available: 23.3.2 -> 24.1.1\n",
      "[notice] To update, run: python.exe -m pip install --upgrade pip\n"
     ]
    }
   ],
   "source": [
    "! pip3 install -qU  markdownify  langchain-upstage rank_bm25"
   ]
  },
  {
   "cell_type": "code",
   "execution_count": 1,
   "metadata": {},
   "outputs": [],
   "source": [
    "import warnings\n",
    "\n",
    "warnings.filterwarnings(\"ignore\")"
   ]
  },
  {
   "cell_type": "code",
   "execution_count": 2,
   "metadata": {},
   "outputs": [],
   "source": [
    "# Set .env and define these:\n",
    "# UPSTAGE_API_KEY from https://console.upstage.ai/\n",
    "# TAVILY_API_KEY https://app.tavily.com\n",
    "# NEWS_API_KEY from https://newsapi.org/\n",
    "\n",
    "%load_ext dotenv\n",
    "%dotenv\n"
   ]
  },
  {
   "cell_type": "code",
   "execution_count": 3,
   "metadata": {},
   "outputs": [],
   "source": [
    "# langchain, 1. llm define, 2. prompt define, 3. chain, 4. chain.invoke\n",
    "\n",
    "# 1. define your favorate llm, solar\n",
    "from langchain_upstage import ChatUpstage\n",
    "from pprint import pprint\n",
    "\n",
    "llm = ChatUpstage()\n",
    "\n",
    "# 2. define chat prompt\n",
    "from langchain_core.prompts import ChatPromptTemplate"
   ]
  },
  {
   "cell_type": "code",
   "execution_count": 4,
   "metadata": {},
   "outputs": [],
   "source": [
    "from langchain_core.prompts import ChatPromptTemplate, MessagesPlaceholder\n",
    "\n",
    "from langchain_core.messages import AIMessage, HumanMessage\n"
   ]
  },
  {
   "cell_type": "code",
   "execution_count": 6,
   "metadata": {},
   "outputs": [],
   "source": [
    "from langchain_upstage import (\n",
    "    UpstageLayoutAnalysisLoader,\n",
    "    UpstageGroundednessCheck,\n",
    "    ChatUpstage,\n",
    "    UpstageEmbeddings,\n",
    ")\n",
    "from langchain_chroma import Chroma\n",
    "from langchain.text_splitter import RecursiveCharacterTextSplitter\n",
    "\n",
    "\n",
    "layzer = UpstageLayoutAnalysisLoader(\"pdf/tesla_2023_10K.pdf\", output_type=\"html\")\n",
    "# For improved memory efficiency, consider using the lazy_load method to load documents page by page.\n",
    "docs = layzer.load()  # or layzer.lazy_load()"
   ]
  },
  {
   "cell_type": "code",
   "execution_count": 7,
   "metadata": {},
   "outputs": [
    {
     "name": "stdout",
     "output_type": "stream",
     "text": [
      "(\"<p id='2' data-category='paragraph' style='font-size:14px'>id</p><br><h1 \"\n",
      " \"id='3' style='font-size:20p\")\n"
     ]
    }
   ],
   "source": [
    "for doc in docs:\n",
    "    pprint(doc.page_content[:100])"
   ]
  },
  {
   "cell_type": "code",
   "execution_count": 21,
   "metadata": {},
   "outputs": [
    {
     "data": {
      "text/html": [
       "<p id='2' data-category='paragraph' style='font-size:14px'>id</p><br><h1 id='3' style='font-size:20px'>UNITED STATES<br>SECURITIES AND EXCHANGE COMMISSION</h1><br><h1 id='4' style='font-size:20px'>Washington, D.C. 20549</h1><br><h1 id='5' style='font-size:20px'>FORM 10-K</h1><br><p id='6' data-category='paragraph' style='font-size:18px'>(Mark One)</p><br><p id='7' data-category='paragraph' style='font-size:18px'>☒ ANNUAL REPORT PURSUANT TO SECTION 13 OR 15(d) OF THE SECURITIES EXCHANGE ACT OF 1934<br>For the fiscal year ended December 31, 2022</p><br><p id='8' data-category='paragraph' style='font-size:18px'>OR</p><br><p id='9' data-category='paragraph' style='font-size:18px'>☐ TRANSITION REPORT PURSUANT TO SECTION 13 OR 15(d) OF THE SECURITIES EXCHANGE ACT OF 1934<br>For the transition period from _________ to _________</p><br><p id='10' data-category='paragraph' style='font-size:18px'>Commission File Number: 001-34756</p><br><h1 id='11' style='font-size:22px'>Tesla, Inc.</h1><br><p i"
      ],
      "text/plain": [
       "<IPython.core.display.HTML object>"
      ]
     },
     "metadata": {},
     "output_type": "display_data"
    }
   ],
   "source": [
    "from IPython.display import display, HTML\n",
    "\n",
    "display(HTML(docs[0].page_content[:1000]))"
   ]
  },
  {
   "cell_type": "code",
   "execution_count": 9,
   "metadata": {},
   "outputs": [
    {
     "name": "stdout",
     "output_type": "stream",
     "text": [
      "Splits: 135\n"
     ]
    }
   ],
   "source": [
    "# RAG 1. load doc (done), 2. chunking, splits, 3. embeding - indexing, 4. retrieve\n",
    "\n",
    "# 2. Chunk Split\n",
    "text_splitter = RecursiveCharacterTextSplitter(chunk_size=4000, chunk_overlap=100)\n",
    "splits = text_splitter.split_documents(docs)\n",
    "print(\"Splits:\", len(splits))\n"
   ]
  },
  {
   "cell_type": "code",
   "execution_count": 10,
   "metadata": {},
   "outputs": [
    {
     "data": {
      "text/html": [
       "increases the legal<br>complexity with respect to self-driving vehicles in the U.S.</p><p id='188' data-category='paragraph' style='font-size:18px'>In markets that follow the regulations of the United Nations Economic Commission for Europe, some requirements restrict the<br>design of advanced driver-assistance or self-driving features, which can compromise or prevent their use entirely. Other applicable<br>laws, both current and proposed, may hinder the path and timeline to introducing self-driving vehicles for sale and use in the markets<br>where they apply.</p><br><p id='189' data-category='paragraph' style='font-size:18px'>Other key markets, including China, continue to consider self-driving regulation. Any implemented regulations may differ<br>materially from those in the U.S. and Europe, which may further increase the legal complexity of self-driving vehicles and limit or<br>prevent certain features.</p><h1 id='190' style='font-size:18px'>Automobile Manufacturer and Dealer Regulat"
      ],
      "text/plain": [
       "<IPython.core.display.HTML object>"
      ]
     },
     "metadata": {},
     "output_type": "display_data"
    }
   ],
   "source": [
    "display(HTML(splits[11].page_content[:1000]))"
   ]
  },
  {
   "cell_type": "code",
   "execution_count": 14,
   "metadata": {},
   "outputs": [
    {
     "name": "stdout",
     "output_type": "stream",
     "text": [
      "CPU times: total: 1.55 s\n",
      "Wall time: 45.3 s\n"
     ]
    }
   ],
   "source": [
    "%%time\n",
    "# 3. Embed & indexing\n",
    "vectorstore = Chroma.from_documents(documents=splits, embedding=UpstageEmbeddings(model=\"solar-embedding-1-large\"))"
   ]
  },
  {
   "cell_type": "code",
   "execution_count": 22,
   "metadata": {},
   "outputs": [
    {
     "name": "stdout",
     "output_type": "stream",
     "text": [
      "10\n",
      "other than our local currencies at the balance<br>sheet date to compute the impact these changes wou\n"
     ]
    }
   ],
   "source": [
    "# # vectorstore_sem = Chroma.from_documents(documents=semantic_splits, embedding=UpstageEmbeddings(model=\"solar-embedding-1-large\"))\n",
    "# vectorstore_sem = Chroma.from_documents(documents=splits, embedding=UpstageEmbeddings(model=\"solar-embedding-1-large\"))\n",
    "\n",
    "# 4. retrive\n",
    "retriever_emb = vectorstore.as_retriever(search_kwargs={\"k\": 10})\n",
    "result_docs = retriever_emb.invoke(\"This context is financial statement of Nvidia in 2022.\")\n",
    "print(len(result_docs))\n",
    "print(result_docs[0].page_content[:100])"
   ]
  },
  {
   "cell_type": "code",
   "execution_count": 25,
   "metadata": {},
   "outputs": [],
   "source": [
    "from langchain_core.output_parsers import StrOutputParser\n"
   ]
  },
  {
   "cell_type": "code",
   "execution_count": 37,
   "metadata": {},
   "outputs": [
    {
     "name": "stdout",
     "output_type": "stream",
     "text": [
      "RESPONSE1\n",
      " 1) Operating Risk:\n",
      "- The company may face issues with lithium-ion cells or other components manufactured at its Gigafactories, which may harm the production and profitability of its vehicle and energy storage products.\n",
      "- The company faces strong competition from a growing list of established and new competitors, which could result in lower vehicle unit sales, price reductions, revenue shortfalls, loss of customers, and loss of market share.\n",
      "- The company may experience delays in launching and ramping the production of its products and features, or it may be unable to control its manufacturing costs.\n",
      "- The company's business may suffer if its ESG practices do not meet investor or other industry stakeholder expectations, which continue to evolve.\n",
      "- The company's operations could be adversely affected by events outside of its control, such as natural disasters, wars, or health epidemics.\n",
      "- The company's business may suffer if it cannot adequately fund its leasing program through internal funds, partners, or other financing sources.\n",
      "- The company must manage ongoing obligations under its agreement with the Research Foundation for the State University of New York relating to its Gigafactory New York.\n",
      "- The company may be negatively impacted by any early obsolescence of its manufacturing equipment.\n",
      "- The company may need to defend itself against intellectual property infringement claims, which may be time-consuming and expensive.\n",
      "\n",
      "2) Financial Risk:\n",
      "- The company's financial condition, results of operations, business, and prospects may be harmed if it does not have sufficient cash flow from its business to pay its indebtedness or if it incurs additional indebtedness.\n",
      "- The company is exposed to fluctuations in currency exchange rates, which may affect its revenue and other operating results as expressed in U.S. dollars.\n",
      "- The company's insurance coverage strategy may not be adequate to protect it from all business risks.\n",
      "- The company's debt agreements contain covenant restrictions that may limit its ability to operate its business.\n",
      "- Additional funds may not be available to the company when it needs or wants them.\n"
     ]
    }
   ],
   "source": [
    "# More general chat\n",
    "\n",
    "rag_with_history_prompt = ChatPromptTemplate.from_messages(\n",
    "    [\n",
    "        (\n",
    "            \"system\",\n",
    "            \"\"\"\n",
    "You are an assistant for question-answering tasks. \n",
    "Use the following pieces of retrieved context to answer the question considering the history of the conversation. \n",
    "---\n",
    "CONTEXT:\n",
    "{context}\n",
    "         \"\"\",\n",
    "        ),\n",
    "        MessagesPlaceholder(variable_name=\"history\"),\n",
    "        (\"human\", \"{input}\"),\n",
    "    ]\n",
    ")\n",
    "\n",
    "\n",
    "from langchain_core.messages import AIMessage, HumanMessage\n",
    "\n",
    "history = []\n",
    "\n",
    "chain = rag_with_history_prompt | llm | StrOutputParser()\n",
    "query1 = \"Please summarize the risk from the context. You can categorize the risk into Two.\\n 1) Operating risk \\n 2) Financial risk\"\n",
    "result_docs = retriever_emb.invoke(\"Risk factor\")\n",
    "\n",
    "response1 = chain.invoke({\"history\": history, \"context\": result_docs, \"input\": query1})\n",
    "print(\"RESPONSE1\\n\", response1)"
   ]
  },
  {
   "cell_type": "code",
   "execution_count": 38,
   "metadata": {},
   "outputs": [
    {
     "name": "stdout",
     "output_type": "stream",
     "text": [
      "RESPONSE2\n",
      " The important factors that managers should consider in their operating activities include:\n",
      "\n",
      "1. Production and manufacturing: Ensuring the efficient and effective production of vehicles and energy storage products, including managing the supply chain for components and raw materials, controlling manufacturing costs, and maintaining product quality.\n",
      "2. Competition: Monitoring the competitive landscape and adapting to changing market conditions to maintain market share and profitability.\n",
      "3. Product development and innovation: Investing in research and development to introduce new products and features that meet customer needs and stay ahead of competitors.\n",
      "4. ESG practices: Adhering to and improving environmental, social, and governance practices to meet stakeholder expectations and avoid reputational risk.\n",
      "5. Risk management: Identifying and managing operational risks, such as natural disasters, health epidemics, and supply chain disruptions, to ensure business continuity.\n",
      "6. Financial management: Monitoring cash flow, managing debt, and securing financing to support the company's growth and operational needs.\n",
      "7. Legal and regulatory compliance: Ensuring compliance with laws and regulations, including those related to intellectual property, environmental regulations, and data privacy.\n",
      "8. Workforce management: Attracting, retaining, and developing a skilled workforce to support the company's growth and operational needs.\n",
      "9. Customer satisfaction: Monitoring customer satisfaction and addressing customer concerns to maintain customer loyalty and retention.\n",
      "10. Strategic planning: Developing and implementing a strategic plan to achieve the company's long-term goals and objectives.\n"
     ]
    }
   ],
   "source": [
    "# More general chat\n",
    "\n",
    "rag_with_history_prompt = ChatPromptTemplate.from_messages(\n",
    "    [\n",
    "        (\n",
    "            \"system\",\n",
    "            \"\"\"\n",
    "You are an assistant for question-answering tasks. \n",
    "Use the following pieces of retrieved context to answer the question considering the history of the conversation. \n",
    "---\n",
    "CONTEXT:\n",
    "{context}\n",
    "         \"\"\",\n",
    "        ),\n",
    "        MessagesPlaceholder(variable_name=\"history\"),\n",
    "        (\"human\", \"{input}\"),\n",
    "    ]\n",
    ")\n",
    "\n",
    "from langchain_core.messages import AIMessage, HumanMessage\n",
    "\n",
    "\n",
    "history = [HumanMessage(query1), AIMessage(response1)]\n",
    "\n",
    "chain = rag_with_history_prompt | llm | StrOutputParser()\n",
    "query1 = \"Please summarize the what are the important factors that manager think of in their operating activity.\"\n",
    "result_docs = retriever_emb.invoke(\"the important factors that manager think of in their operating activity\")\n",
    "\n",
    "response2 = chain.invoke({\"history\": history, \"context\": result_docs, \"input\": query1})\n",
    "print(\"RESPONSE2\\n\", response2)"
   ]
  }
 ],
 "metadata": {
  "kernelspec": {
   "display_name": "Python 3",
   "language": "python",
   "name": "python3"
  },
  "language_info": {
   "codemirror_mode": {
    "name": "ipython",
    "version": 3
   },
   "file_extension": ".py",
   "mimetype": "text/x-python",
   "name": "python",
   "nbconvert_exporter": "python",
   "pygments_lexer": "ipython3",
   "version": "3.8.10"
  }
 },
 "nbformat": 4,
 "nbformat_minor": 2
}
