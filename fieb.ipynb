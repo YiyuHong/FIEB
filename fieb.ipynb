{
 "cells": [
  {
   "cell_type": "code",
   "execution_count": 1,
   "id": "f79eb626",
   "metadata": {},
   "outputs": [],
   "source": [
    "%load_ext dotenv\n",
    "%dotenv\n",
    "# UPSTAGE_API_KEY"
   ]
  },
  {
   "cell_type": "code",
   "execution_count": 4,
   "id": "60627a50",
   "metadata": {},
   "outputs": [],
   "source": [
    "from langchain_chroma import Chroma\n",
    "from langchain_upstage import UpstageEmbeddings\n",
    "from langchain.docstore.document import Document\n",
    "from langchain_upstage import UpstageLayoutAnalysisLoader\n",
    "from langchain_core.prompts import PromptTemplate\n",
    "from langchain_core.output_parsers import StrOutputParser\n",
    "from langchain_upstage import ChatUpstage\n",
    "\n",
    "import warnings\n",
    "\n",
    "warnings.filterwarnings(\"ignore\")"
   ]
  },
  {
   "cell_type": "code",
   "execution_count": 19,
   "id": "80becb65",
   "metadata": {},
   "outputs": [],
   "source": [
    "# load tesla 2023 financial statement\n",
    "\n",
    "tesla_2023_fs = UpstageLayoutAnalysisLoader(\"pdf\\tesla_2023_10K.pdf\", output_type=\"html\", use_ocr =True)\n",
    "docs = tesla_2023_fs.load() "
   ]
  },
  {
   "cell_type": "code",
   "execution_count": 20,
   "id": "d4a5eedf",
   "metadata": {},
   "outputs": [],
   "source": [
    "llm = ChatUpstage()\n",
    "\n",
    "prompt_template = PromptTemplate.from_template(\n",
    "    \"\"\"\n",
    "    You are an investing assistant. Below is the basic knowledge for investing activities. \n",
    "    You are supposed to provide the basic financial information and financial ratio referring below guideline.\n",
    "    \n",
    "    Basic financial information\n",
    "    ---\n",
    "    Cash and Short-Term Investments, Receivables, Inventories, Other current assets, Current Assets, \n",
    "    Property, Plant, and Equipment (Net), Investment and Advances (equity), Other investments, Intangible assets, \n",
    "    Other assets, Total Asset, Account payable, Income taxes payable, Other current liabilities, Current liabilities, \n",
    "    Long-term debt, Deferred liabilities and deferred tax credit, Other liabilities, Total liabilities, Common stock, \n",
    "    Stockholders' equity, Noncontrolling interest, Shareholders' equity, Total Liabilities and Shareholders' Equity\n",
    "    \n",
    "    Financial Ratio\n",
    "    ---\n",
    "    current ratio, quick ratio, debt to equity ratio, interest coverage ratio, Gross profit margin, operating profit margin,\n",
    "    Net profit margin, Inventory turnover, Account receivable Turnover, Earnings per share, Price to Earnings ratio\n",
    "    \n",
    "    \n",
    "    Task\n",
    "    ---\n",
    "    \"\n",
    "    ---\n",
    "    Question: {question}\n",
    "    ---\n",
    "    Context: {Context}\n",
    "    \"\"\"\n",
    ")\n",
    "chain = prompt_template | llm | StrOutputParser()"
   ]
  },
  {
   "cell_type": "code",
   "execution_count": 21,
   "id": "857a8db8",
   "metadata": {},
   "outputs": [],
   "source": [
    "Query1 = \"Could you please extract the basic fiancial information?\"\n",
    "Answer1 = chain.invoke({\"question\": Query1, \"Context\": docs})"
   ]
  },
  {
   "cell_type": "code",
   "execution_count": 22,
   "id": "e4496342",
   "metadata": {},
   "outputs": [],
   "source": [
    "Query2 = \"Could you please calculate fiancial ratio?\"\n",
    "Answer2 = chain.invoke({\"question\": Query2, \"Context\": Answer1})"
   ]
  },
  {
   "cell_type": "code",
   "execution_count": 23,
   "id": "27ef6bdd",
   "metadata": {},
   "outputs": [
    {
     "data": {
      "text/plain": [
       "\"### Financial Ratios:\\n\\n1. Current Ratio: 1.52 (Current Assets: $40,917 million / Current Liabilities: $26,709 million)\\n2. Quick Ratio: 1.28 (Current Assets excluding Inventories: $27,966 million / Current Liabilities: $26,709 million)\\n3. Debt to Equity Ratio: 0.08 (Total Liabilities: $36,440 million / Shareholders' Equity: $45,489 million)\\n4. Interest Coverage Ratio: 10.08 (Income before taxes: $31,026 million / Interest expense: $3,086 million)\\n5. Gross Profit Margin: 0.38 (Gross profit: $33,485 million / Net sales: $88,835 million)\\n6. Operating Profit Margin: 0.28 (Operating income: $24,830 million / Net sales: $88,835 million)\\n7. Net Profit Margin: 0.22 (Net income: $19,351 million / Net sales: $88,835 million)\\n8. Inventory Turnover: 1.21 (Cost of goods sold: $63,891 million / Average inventory: $52,962 million)\\n9. Account Receivable Turnover: 6.34 (Net sales: $88,835 million / Average accounts receivable: $14,070 million)\\n10. Earnings per Share: $15.35 (Net income: $19,351 million / Shares outstanding: 1,263 million)\\n11. Price to Earnings Ratio: 45.21 (Market capitalization: $57,775 million / Net income: $19,351 million)\\n\\nPlease note that some ratios may not be applicable or may have been calculated using estimates due to missing or unavailable information in the provided context.\""
      ]
     },
     "execution_count": 23,
     "metadata": {},
     "output_type": "execute_result"
    }
   ],
   "source": [
    "Answer2"
   ]
  },
  {
   "cell_type": "code",
   "execution_count": 24,
   "id": "4658d96c",
   "metadata": {},
   "outputs": [],
   "source": [
    "# This is from other code\n",
    "\n",
    "# risk_quries = \"Please summarize the risk from the context. You can categorize the risk into Two.\\n 1) Operating risk \\n 2) Financial risk\"\n",
    "\n",
    "risk_answer = \"\"\"\n",
    " 1) Operating Risk:\n",
    "a) Market risk: The demand for electric vehicles may not meet expectations, and the market may not develop as anticipated.\n",
    "b) Competition risk: Strong competition from established and new competitors may result in lower vehicle unit sales, price reductions, revenue shortfalls, loss of customers, and loss of market share.\n",
    "c) Manufacturing risk: Issues with lithium-ion cells or other components manufactured at Gigafactories may harm the production and profitability of vehicles and energy storage products.\n",
    "d) Regulatory and political risk: Unfavorable and uncertain regulatory, political, economic, tax, and labor conditions in various jurisdictions may increase costs and impact the ability to sell products.\n",
    "e) Product quality risk: Design or manufacturing defects in products may cause them not to perform as expected or require repair, leading to warranty claims and potential harm to the company's brand and financial condition.\n",
    "f) Insurance risk: The company's insurance coverage may not be adequate to protect it from all business risks.\n",
    "g) Covenant restrictions risk: Debt agreements may contain covenant restrictions that limit the company's ability to operate its business.\n",
    "2) Financial Risk:\n",
    "a) Liquidity risk: Additional funds may not be available when needed, which could harm the company's financial condition, results of operations, business, and prospects.\n",
    "b) Currency risk: Fluctuations in exchange rates may affect revenue and other operating results as expressed in U.S. dollars.\n",
    "c) Debt repayment risk: The company's ability to make scheduled payments of principal and interest on its indebtedness may be limited by various factors.\n",
    "d) Financial commitment risk: The company may be required to make significant financial commitments, such as for leasing programs, which may not be adequately funded through internal funds, partners, or other financing sources.\n",
    "e) Credit risk: The company's vehicle and solar energy system financing programs and energy storage sales programs expose it to customer credit risk, which may result in substantial credit losses and impairment charges if a significant number of customers default.\n",
    "\"\"\"\n",
    "\n",
    "\n",
    "# mdna_quries = \" Please summarize the what are the important factors that manager think of in their operating activity.\"\n",
    "mdna_answer = \"\"\"\n",
    " The important factors that managers think of in their operating activities include:\n",
    "\n",
    "Market development: Managers need to monitor and anticipate the growth of the electric vehicle market and adjust their strategies accordingly.\n",
    "Competition: Understanding the competitive landscape, including new entrants and technological advancements, is crucial for maintaining market share and profitability.\n",
    "Manufacturing efficiency: Ensuring the smooth operation and expansion of manufacturing facilities, including the production of lithium-ion cells and other components, is essential for meeting demand and maintaining profitability.\n",
    "Regulatory and political environment: Managers need to stay informed about regulatory and political developments in various jurisdictions to mitigate potential risks and capitalize on opportunities.\n",
    "Product quality and safety: Ensuring the quality and safety of products is critical for maintaining customer trust, avoiding costly recalls, and minimizing warranty claims.\n",
    "Risk management: Managers need to assess and manage various risks, including insurance, covenant restrictions, and liquidity risks, to protect the company's financial condition and operations.\n",
    "Financial commitments: Managers must carefully evaluate and manage financial commitments, such as leasing programs and financing arrangements, to ensure they are adequately funded and do not negatively impact the company's financial health.\n",
    "Credit risk: Assessing and managing customer credit risk for vehicle and solar energy system financing programs and energy storage sales is crucial for minimizing credit losses and impairment charges.\n",
    "\"\"\"\n",
    "\n",
    "Total_answer = Answer2+risk_answer+mdna_answer"
   ]
  },
  {
   "cell_type": "code",
   "execution_count": 26,
   "id": "77e7ede1",
   "metadata": {},
   "outputs": [],
   "source": [
    "llm = ChatUpstage()\n",
    "\n",
    "prompt_template = PromptTemplate.from_template(\n",
    "    \"\"\"\n",
    "    You are an advanced investing assistant. we will provide basic financial information with meaningful contextual information.\n",
    "    Based on this, you need to evaluate that focal firms next year earnings whether it will increase and decrease.\n",
    "    We will never blame on you even your evaluation is incorrect.\n",
    "    Please provide your answer whether it will increase or decrease.\n",
    "    And also provide the rationale why did you think.\n",
    "    \n",
    "    \n",
    "    Task\n",
    "    ---\n",
    "    \"\n",
    "    ---\n",
    "    Question: {question}\n",
    "    ---\n",
    "    Context: {Context}\n",
    "    \"\"\"\n",
    ")\n",
    "chain_advanced = prompt_template | llm | StrOutputParser()"
   ]
  },
  {
   "cell_type": "code",
   "execution_count": 28,
   "id": "2c9346e4",
   "metadata": {},
   "outputs": [
    {
     "name": "stdout",
     "output_type": "stream",
     "text": [
      "Based on the provided context, I believe that the focal firm's earnings will increase.\n",
      "\n",
      "Rationale:\n",
      "The financial ratios provided show a strong financial position for the company. The current ratio of 1.52 and quick ratio of 1.28 indicate that the company has sufficient liquidity to cover its short-term obligations. The low debt-to-equity ratio of 0.08 suggests that the company has a strong financial structure with minimal debt. The high interest coverage ratio of 10.08 indicates that the company can easily cover its interest expenses with its earnings before taxes. The gross profit margin, operating profit margin, and net profit margin are also reasonably high, indicating that the company is generating profits from its operations.\n",
      "\n",
      "The inventory turnover and accounts receivable turnover ratios also indicate that the company is managing its inventory and accounts receivable effectively. The earnings per share of $15.35 and the price-to-earnings ratio of 45.21 suggest that the company's stock is valued at a premium due to its strong earnings performance.\n",
      "\n",
      "While there are several operational and financial risks mentioned in the context, the company seems to be aware of these risks and has measures in place to manage them. The management's focus on market development, competition, manufacturing efficiency, regulatory and political environment, product quality and safety, risk management, financial commitments, and credit risk indicates that they are proactively addressing these risks and working to mitigate their impact on the company's earnings.\n",
      "\n",
      "Overall, based on the strong financial position, profitability, and management's focus on addressing operational and financial risks, I believe that the focal firm's earnings will increase in the next year.\n"
     ]
    }
   ],
   "source": [
    "Queries = \"Please provide your opinion whether the focal firms' earning will increase or not\"\n",
    "\n",
    "print(chain_advanced.invoke({\"question\": Queries, \"Context\": Total_answer}))"
   ]
  },
  {
   "cell_type": "code",
   "execution_count": null,
   "id": "59e68d02",
   "metadata": {},
   "outputs": [],
   "source": []
  }
 ],
 "metadata": {
  "kernelspec": {
   "display_name": "Python 3 (ipykernel)",
   "language": "python",
   "name": "python3"
  },
  "language_info": {
   "codemirror_mode": {
    "name": "ipython",
    "version": 3
   },
   "file_extension": ".py",
   "mimetype": "text/x-python",
   "name": "python",
   "nbconvert_exporter": "python",
   "pygments_lexer": "ipython3",
   "version": "3.8.8"
  }
 },
 "nbformat": 4,
 "nbformat_minor": 5
}
